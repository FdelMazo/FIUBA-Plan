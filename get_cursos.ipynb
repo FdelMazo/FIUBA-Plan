{
 "cells": [
  {
   "cell_type": "code",
   "execution_count": null,
   "metadata": {},
   "outputs": [],
   "source": [
    "import datetime\n",
    "import requests\n",
    "import json\n",
    "\n",
    "\n",
    "response = requests.get('https://ofertahoraria.fi.uba.ar/api/last_update').json()\n",
    "\n",
    "DATA = {\n",
    "    \"cuatrimestre\": f\"{response['currentQuarter']['year']}C{response['currentQuarter']['quarter']}\",\n",
    "    \"timestamp\": f\"{response['lastUpdate']}\",\n",
    "}\n",
    "DATA"
   ]
  },
  {
   "cell_type": "code",
   "execution_count": null,
   "metadata": {},
   "outputs": [],
   "source": [
    "with open('src/data/horarios.js', 'r') as f:\n",
    "    f.readline() # we remove the first `export const = ` line\n",
    "    old_json = json.load(f)\n",
    "\n",
    "old_data = {\n",
    "            'cuatrimestre': old_json['cuatrimestre'],\n",
    "            'timestamp': old_json['timestamp']\n",
    "}\n",
    "\n",
    "if (DATA is old_data): \n",
    "    # Nothing to update!\n",
    "    exit()"
   ]
  },
  {
   "cell_type": "code",
   "execution_count": null,
   "metadata": {},
   "outputs": [],
   "source": [
    "# Funcion para cuando ofertahoraria flashea y devuelve cualquier cosa\n",
    "# r = requests.get(f'https://ofertahoraria.fi.uba.ar/api/...').json()\n",
    "# response = decode_response(r)\n",
    "\n",
    "def decode_response(dic):\n",
    "    new_dic = {}\n",
    "    for k,v in dic.items():        \n",
    "        if isinstance(v, list):\n",
    "            new_dic[k] = [decode_response(vv) for vv in v]\n",
    "        elif isinstance(v, dict):\n",
    "            new_dic[k] = decode_response(v)\n",
    "            print(new_dic[k])\n",
    "        else:\n",
    "            new_dic[k] = str(v).encode('iso-8859-1', 'strict').decode(\"utf8\", 'ignore')\n",
    "    return new_dic"
   ]
  },
  {
   "cell_type": "code",
   "execution_count": null,
   "metadata": {
    "scrolled": true
   },
   "outputs": [],
   "source": [
    "response = requests.get('https://ofertahoraria.fi.uba.ar/api/departamentos').json()\n",
    "departamentos = response.keys()\n",
    "departamentos"
   ]
  },
  {
   "cell_type": "code",
   "execution_count": null,
   "metadata": {},
   "outputs": [],
   "source": [
    "materias = []\n",
    "for d in departamentos:\n",
    "    response = requests.get(f'https://ofertahoraria.fi.uba.ar/api/departamento/{d}').json()\n",
    "    if (response): \n",
    "        materias.extend(response.keys())\n",
    "materias"
   ]
  },
  {
   "cell_type": "code",
   "execution_count": null,
   "metadata": {
    "scrolled": true
   },
   "outputs": [],
   "source": [
    "DATA[\"materias\"] = []\n",
    "DATA[\"cursos\"] = []\n",
    "\n",
    "DIAS = [\"Domingo\", \"Lunes\", \"Martes\", \"Miércoles\", \"Jueves\", \"Viernes\", \"Sábado\"]\n",
    "\n",
    "def format_clases(timetable):\n",
    "    clases = []\n",
    "    for clase in timetable:\n",
    "        if clase[\"day\"] == \"Otro\": continue\n",
    "        clases.append({\"dia\": DIAS.index(clase[\"day\"]),\n",
    "                       \"inicio\": clase[\"from\"],\n",
    "                       \"fin\": clase[\"to\"]})\n",
    "    return sorted(clases, key=lambda x: x['dia'])\n",
    "\n",
    "for m in materias:\n",
    "    response = requests.get(f'https://ofertahoraria.fi.uba.ar/api/materia/{m}').json()\n",
    "    if (response):\n",
    "        comisiones = []\n",
    "        for c in response['commisions']:\n",
    "            clases = format_clases(c[\"timetable\"])\n",
    "            if not clases: continue\n",
    "            comisiones.append({\"codigo\": f\"{m}-{c['name']}\", \n",
    "                               \"materia\": m,\n",
    "                               \"docentes\": c[\"teachers\"],\n",
    "                               \"clases\": clases})\n",
    "        \n",
    "        if not comisiones: continue\n",
    "        \n",
    "        DATA[\"materias\"].append({\"codigo\": m,\n",
    "                                 \"nombre\": response[\"description\"],\n",
    "                                 \"cursos\": sorted(list(map(lambda x: x[\"codigo\"], comisiones)))})\n",
    "        \n",
    "        DATA[\"cursos\"].extend(comisiones)\n",
    "DATA"
   ]
  },
  {
   "cell_type": "code",
   "execution_count": null,
   "metadata": {
    "scrolled": true
   },
   "outputs": [],
   "source": [
    "DATA['materias'] = sorted(DATA['materias'], key=lambda x: x['codigo'])\n",
    "DATA['cursos'] = sorted(DATA['cursos'], key=lambda x: x['codigo'])\n",
    "\n",
    "dump = json.dumps(DATA, indent=2, ensure_ascii=False, sort_keys=True)\n",
    "\n",
    "with open('src/data/horarios.js', 'w') as fw:\n",
    "    fw.write(\"export const data = \")\n",
    "    fw.write(\"\\n\") # Do not remove me. Make me easy to parse.\n",
    "    fw.write(dump)    "
   ]
  }
 ],
 "metadata": {
  "kernelspec": {
   "display_name": "Python 3 (ipykernel)",
   "language": "python",
   "name": "python3"
  },
  "language_info": {
   "codemirror_mode": {
    "name": "ipython",
    "version": 3
   },
   "file_extension": ".py",
   "mimetype": "text/x-python",
   "name": "python",
   "nbconvert_exporter": "python",
   "pygments_lexer": "ipython3",
   "version": "3.9.10"
  }
 },
 "nbformat": 4,
 "nbformat_minor": 2
}
