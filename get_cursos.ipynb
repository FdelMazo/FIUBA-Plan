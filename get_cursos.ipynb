{
 "cells": [
  {
   "cell_type": "code",
   "execution_count": null,
   "metadata": {},
   "outputs": [],
   "source": [
    "import datetime\n",
    "import requests\n",
    "import json\n",
    "\n",
    "\n",
    "response = requests.get('https://ofertahoraria.fi.uba.ar/api/last_update').json()\n",
    "\n",
    "DATA = {\n",
    "    \"cuatrimestre\": f\"{response['currentQuarter']['year']}C{response['currentQuarter']['quarter']}\",\n",
    "    \"timestamp\": f\"{response['lastUpdate']}\",\n",
    "}\n",
    "DATA"
   ]
  },
  {
   "cell_type": "code",
   "execution_count": null,
   "metadata": {},
   "outputs": [],
   "source": [
    "with open('src/data/horarios.js', 'r') as f:\n",
    "    f.readline() # we remove the first `export const = ` line\n",
    "    old_json = json.load(f)\n",
    "\n",
    "old_data = {\n",
    "            'cuatrimestre': old_json['cuatrimestre'],\n",
    "            'timestamp': old_json['timestamp']\n",
    "}\n",
    "\n",
    "if (DATA is old_data): \n",
    "    # Nothing to update!\n",
    "    exit()"
   ]
  },
  {
   "cell_type": "code",
   "execution_count": null,
   "metadata": {},
   "outputs": [],
   "source": [
    "# Funcion para cuando ofertahoraria flashea y devuelve cualquier cosa\n",
    "# r = requests.get(f'https://ofertahoraria.fi.uba.ar/api/...').json()\n",
    "# response = decode_response(r)\n",
    "\n",
    "def decode_response(dic):\n",
    "    new_dic = {}\n",
    "    for k,v in dic.items():        \n",
    "        if isinstance(v, list):\n",
    "            new_dic[k] = [decode_response(vv) for vv in v]\n",
    "        elif isinstance(v, dict):\n",
    "            new_dic[k] = decode_response(v)\n",
    "            print(new_dic[k])\n",
    "        else:\n",
    "            new_dic[k] = str(v).encode('iso-8859-1', 'strict').decode(\"utf8\", 'ignore')\n",
    "    return new_dic"
   ]
  },
  {
   "cell_type": "code",
   "execution_count": null,
   "metadata": {
    "scrolled": true
   },
   "outputs": [],
   "source": [
    "response = requests.get('https://ofertahoraria.fi.uba.ar/api/departamentos').json()\n",
    "departamentos = response.keys()\n",
    "departamentos"
   ]
  },
  {
   "cell_type": "code",
   "execution_count": null,
   "metadata": {},
   "outputs": [],
   "source": [
    "materias = []\n",
    "for d in departamentos:\n",
    "    response = requests.get(f'https://ofertahoraria.fi.uba.ar/api/departamento/{d}').json()\n",
    "    if (response): \n",
    "        materias.extend(response.keys())\n",
    "materias"
   ]
  },
  {
   "cell_type": "code",
   "execution_count": null,
   "metadata": {
    "scrolled": true
   },
   "outputs": [],
   "source": [
    "DATA[\"materias\"] = []\n",
    "DATA[\"cursos\"] = []\n",
    "\n",
    "DIAS = [\"Domingo\", \"Lunes\", \"Martes\", \"Miércoles\", \"Jueves\", \"Viernes\", \"Sábado\"]\n",
    "\n",
    "def format_clases(timetable):\n",
    "    clases = []\n",
    "    for clase in timetable:\n",
    "        if clase[\"day\"] == \"Otro\": continue\n",
    "        clases.append({\"dia\": DIAS.index(clase[\"day\"]),\n",
    "                       \"inicio\": clase[\"from\"],\n",
    "                       \"fin\": clase[\"to\"]})\n",
    "    return clases\n",
    "\n",
    "for m in materias:\n",
    "    response = requests.get(f'https://ofertahoraria.fi.uba.ar/api/materia/{m}').json()\n",
    "    if (response):\n",
    "        comisiones = []\n",
    "        for c in response['commisions']:\n",
    "            clases = format_clases(c[\"timetable\"])\n",
    "            if not clases: continue\n",
    "            comisiones.append({\"codigo\": f\"{m}-{c['name']}\", \n",
    "                               \"materia\": m,\n",
    "                               \"docentes\": c[\"teachers\"],\n",
    "                               \"clases\": clases})\n",
    "        \n",
    "        if not comisiones: continue\n",
    "        \n",
    "        DATA[\"materias\"].append({\"codigo\": m,\n",
    "                                 \"nombre\": response[\"description\"],\n",
    "                                 \"cursos\": list(map(lambda x: x[\"codigo\"], comisiones))})\n",
    "        \n",
    "        DATA[\"cursos\"].extend(comisiones)\n",
    "DATA"
   ]
  },
  {
   "cell_type": "code",
   "execution_count": null,
   "metadata": {
    "scrolled": true
   },
   "outputs": [],
   "source": [
    "dump = json.dumps(DATA, indent=2, ensure_ascii=False)        \n",
    "\n",
    "with open('src/data/horarios.js', 'w') as fw:\n",
    "    fw.write(\"export const data = \")\n",
    "    fw.write(\"\\n\") # Do not remove me. Make me easy to parse.\n",
    "    fw.write(dump)    "
   ]
  },
  {
   "cell_type": "code",
   "execution_count": null,
   "metadata": {
    "scrolled": true
   },
   "outputs": [],
   "source": [
    "### Para rehacer el archivo carreras.js (es un laburo muy chico como para automatizarlo)\n",
    "### En un mundo ideal, no hay que hacerlo nunca, pero como hay cuatris donde se agregan materias, no esta mal chequearlo de vez en cuando\n",
    "\n",
    "# Ir a 'horarios de cursada' del SIU, sin loggearse -> https://guaraniautogestion.fi.uba.ar/g3w/horarios_cursadas\n",
    "# Poner los filtros de Responsable Academica (FIUBA), Propuesta (la ING a actualizar) y el Periodo Lectivo (el actual)\n",
    "\n",
    "# Abrir una consola y buscar todos los codigos de las materias y copypastearlos en el archivo\n",
    "# var docs = document.getElementsByClassName('accordion-toggle materia')\n",
    "# var arr = [].slice.call(docs)\n",
    "# arr.map(x=>x.innerHTML).map(x=>x.split('(')[1]).map(x=>x.split(')')[0]).map(x=>x.trim())\n",
    "\n",
    "## Ojo: \n",
    "# - Agregar a ing de alimentos las materias de 'Año pulmon de ingenieria de alimentos'\n",
    "# - Agregar a ing en agrimensura las materias de 'Agrimensura'\n",
    "# - Agregar a ing naval y mecanica las materias de 'Ingenieria Naval'\n",
    "# - El plan viejo de licenciatura se hizo medio a manopla entre lo que habia de cuatris pasados y el FIUBA Map\n",
    "# Ojo con los duplicados!\n",
    "\n",
    "### Para confirmar si alguna materia no esta contenida en ninguna carrera, clavar este codigo en algun lado de `useData.js`\n",
    "## De todas formas, estas materias aparecen si no se selecciona ninguna carrera en el select del drawer\n",
    "# React.useEffect(() => {\n",
    "#     const allMateriasInCarreras = [];\n",
    "#     jsonCarreras.forEach((c) => {\n",
    "#       allMateriasInCarreras.push(...c.materias);\n",
    "#     });\n",
    "#     jsonData.materias.forEach((m) => {\n",
    "#       if (!allMateriasInCarreras.includes(m.codigo)) {\n",
    "#         alert(JSON.stringify(m));\n",
    "#       }\n",
    "#     });\n",
    "#   }, []);\n",
    "\n"
   ]
  }
 ],
 "metadata": {
  "kernelspec": {
   "display_name": "Python 3 (ipykernel)",
   "language": "python",
   "name": "python3"
  },
  "language_info": {
   "codemirror_mode": {
    "name": "ipython",
    "version": 3
   },
   "file_extension": ".py",
   "mimetype": "text/x-python",
   "name": "python",
   "nbconvert_exporter": "python",
   "pygments_lexer": "ipython3",
   "version": "3.9.9"
  }
 },
 "nbformat": 4,
 "nbformat_minor": 2
}
